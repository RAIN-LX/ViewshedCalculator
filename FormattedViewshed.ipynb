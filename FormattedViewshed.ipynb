{
 "cells": [
  {
   "cell_type": "code",
   "execution_count": 11,
   "metadata": {
    "scrolled": false
   },
   "outputs": [
    {
     "name": "stdout",
     "output_type": "stream",
     "text": [
      "['1']\n",
      "﻿\n",
      "OBJECTID = 1\n"
     ]
    },
    {
     "data": {
      "text/html": [
       "<div class='gpresult'><h2>Messages</h2><div id='messages'>Start Time: Tuesday, October 15, 2024 8:54:29 PM<br>Succeeded at Tuesday, October 15, 2024 8:54:30 PM (Elapsed Time: 1.42 seconds)<br></div><div id = 'default' /></div></div>"
      ],
      "text/plain": [
       "<Result 'E:\\\\Projects\\\\ViewshedAnalysisOUR\\\\viewshed.gdb\\\\line_Select2'>"
      ]
     },
     "execution_count": 11,
     "metadata": {},
     "output_type": "execute_result"
    }
   ],
   "source": [
    "#All parameters to modify (in operation order):\n",
    "#--------------------Function Parameters---------------------------------#\n",
    "#Selection inputs\n",
    "layer = \"line\"                                            # The Line layer whose features will be selected\n",
    "rasterInput = \"FL_GulfCoast_T_ProjectRaster\"              # Map Elevation Data layer\n",
    "lineInput = \"line_Select\"\n",
    "\n",
    "#Selection output\n",
    "outFeature = r\"E:\\Projects\\ViewshedAnalysisOUR\\viewshed.gdb\\line_Select2\"\n",
    "\n",
    "\n",
    "#Point Generation input\n",
    "pointSpacing = 75                                         # Percent distance for points\n",
    "\n",
    "#Point generation output\n",
    "pointOutput = r\"E:\\Projects\\ViewshedAnalysisOUR\\viewshed.gdb\\GeneratePoints\"\n",
    "\n",
    "#Viewshed generation input\n",
    "pointInput = \"GeneratePoints\"                            #*This should match pointOutput*\n",
    "observerElevation = \"6 Meters\"                           # Height of viewshed observer point\n",
    "viewDistance = \"1 Miles\"                                 # Maximum view distance of viewshed\n",
    "\n",
    "#Viewshed final output!\n",
    "outRaster = r\"E:\\Projects\\ViewshedAnalysisOUR\\viewshed.gdb\\Viewshed_FL_G3\"\n",
    "\n",
    "\n",
    "\n",
    "\n",
    "#--------------------Feature Selection Group-------------------------#\n",
    "\n",
    "def selected_features(layer):\n",
    "    # Check if there is a selection\n",
    "    if arcpy.Describe(layer).FIDSet:\n",
    "        # Count the selected features\n",
    "        result = arcpy.GetCount_management(layer)   \n",
    "        count = int(result.getOutput(0))\n",
    "        fids = arcpy.Describe(layer).FIDSet.split('; ')\n",
    "    else:\n",
    "        # No selection, return 0\n",
    "        count = 0\n",
    "    return fids\n",
    "\n",
    "print(selected_features(layer))\n",
    "row_list = selected_features(layer)\n",
    "\n",
    "#generate a query from the selected features\n",
    "queryString = ''\n",
    "x = 0\n",
    "for i in row_list:\n",
    "    queryString += \"OBJECTID = \" + i\n",
    "    x = x + 1\n",
    "    try:\n",
    "        if (row_list[x]):\n",
    "            queryString += \" Or \"\n",
    "    except IndexError:\n",
    "        print(\"\")\n",
    "\n",
    "print(queryString)\n",
    "\n",
    "#Create new layer from selection\n",
    "arcpy.analysis.Select(\n",
    "    in_features= layer,\n",
    "    out_feature_class= outFeature,\n",
    "    where_clause= queryString\n",
    ")"
   ]
  },
  {
   "cell_type": "code",
   "execution_count": 12,
   "metadata": {},
   "outputs": [
    {
     "data": {
      "text/html": [
       "<div class='gpresult'><h2>Messages</h2><div id='messages'>Start Time: Tuesday, October 15, 2024 8:54:31 PM<br>Succeeded at Tuesday, October 15, 2024 8:54:34 PM (Elapsed Time: 3.06 seconds)<br></div><div id = 'default' /></div></div>"
      ],
      "text/plain": [
       "<Result 'E:\\\\Projects\\\\ViewshedAnalysisOUR\\\\viewshed.gdb\\\\GeneratePoints'>"
      ]
     },
     "execution_count": 12,
     "metadata": {},
     "output_type": "execute_result"
    }
   ],
   "source": [
    "#------------------Point Generation-------------------#\n",
    "\n",
    "# generate points along line\n",
    "arcpy.management.GeneratePointsAlongLines(\n",
    "    Input_Features= lineInput,\n",
    "    Output_Feature_Class= pointOutput,\n",
    "    Point_Placement=\"PERCENTAGE\",\n",
    "    Distance=None,\n",
    "    Percentage=pointSpacing,\n",
    "    Include_End_Points=\"NO_END_POINTS\",\n",
    "    Add_Chainage_Fields=\"NO_CHAINAGE\"\n",
    ")"
   ]
  },
  {
   "cell_type": "code",
   "execution_count": 13,
   "metadata": {},
   "outputs": [],
   "source": [
    "#---------------------Viewshed Generation-------------------#\n",
    "\n",
    "#Special input; Viewshed environment variables. Coordinate system, projection, etc\n",
    "#This might be easiest to set by just opening up the tool, entering the environment variables, and copying a new command to pull this line from \n",
    "\n",
    "with arcpy.EnvManager(outputCoordinateSystem='PROJCS[\"NAD_1983_UTM_Zone_16N\",GEOGCS[\"GCS_North_American_1983\",DATUM[\"D_North_American_1983\",SPHEROID[\"GRS_1980\",6378137.0,298.257222101]],PRIMEM[\"Greenwich\",0.0],UNIT[\"Degree\",0.0174532925199433]],PROJECTION[\"Transverse_Mercator\"],PARAMETER[\"False_Easting\",500000.0],PARAMETER[\"False_Northing\",0.0],PARAMETER[\"Central_Meridian\",-87.0],PARAMETER[\"Scale_Factor\",0.9996],PARAMETER[\"Latitude_Of_Origin\",0.0],UNIT[\"Meter\",1.0]],VERTCS[\"NAD_1983\",DATUM[\"D_North_American_1983\",SPHEROID[\"GRS_1980\",6378137.0,298.257222101]],PARAMETER[\"Vertical_Shift\",0.0],PARAMETER[\"Direction\",1.0],UNIT[\"Meter\",1.0]]', parallelProcessingFactor=\"100%\", scratchWorkspace=r\"E:\\Projects\\ViewshedAnalysisOUR\\viewshed.gdb\"):\n",
    "    out_raster = arcpy.sa.Viewshed2(\n",
    "        in_raster=rasterInput,\n",
    "        in_observer_features=pointInput,\n",
    "        out_agl_raster=None,\n",
    "        analysis_type=\"OBSERVERS\",\n",
    "        vertical_error=\"0 Meters\",\n",
    "        out_observer_region_relationship_table=r\"E:\\Projects\\ViewshedAnalysisOUR\\viewshed.gdb\\GeneratePoints_Viewshed2\",\n",
    "        refractivity_coefficient=0.13,\n",
    "        surface_offset=\"0 Meters\",\n",
    "        observer_elevation=None,\n",
    "        observer_offset=observerElevation,\n",
    "        inner_radius=None,\n",
    "        inner_radius_is_3d=\"GROUND\",\n",
    "        outer_radius=viewDistance,\n",
    "        outer_radius_is_3d=\"GROUND\",\n",
    "        horizontal_start_angle=0,\n",
    "        horizontal_end_angle=360,\n",
    "        vertical_upper_angle=180,\n",
    "        vertical_lower_angle=-180,\n",
    "        analysis_method=\"ALL_SIGHTLINES\",\n",
    "        analysis_target_device=\"CPU_ONLY\"\n",
    "    )\n",
    "    out_raster.save(outRaster)"
   ]
  },
  {
   "cell_type": "code",
   "execution_count": null,
   "metadata": {},
   "outputs": [],
   "source": []
  }
 ],
 "metadata": {
  "kernelspec": {
   "display_name": "ArcGISPro",
   "language": "Python",
   "name": "python3"
  },
  "language_info": {
   "file_extension": ".py",
   "name": "python",
   "version": "3"
  }
 },
 "nbformat": 4,
 "nbformat_minor": 2
}
