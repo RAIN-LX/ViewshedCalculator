{
 "cells": [
  {
   "cell_type": "code",
   "execution_count": 71,
   "metadata": {
    "scrolled": false
   },
   "outputs": [
    {
     "name": "stdout",
     "output_type": "stream",
     "text": [
      "['1', '2', '3']\n"
     ]
    }
   ],
   "source": [
    "def selected_features(layer):\n",
    "    # Check if there is a selection\n",
    "    if arcpy.Describe(layer).FIDSet:\n",
    "        # Count the selected features\n",
    "        result = arcpy.GetCount_management(layer)   \n",
    "        count = int(result.getOutput(0))\n",
    "        fids = arcpy.Describe(layer).FIDSet.split('; ')\n",
    "    else:\n",
    "        # No selection, return 0\n",
    "        count = 0\n",
    "    return fids\n",
    "\n",
    "# Usage\n",
    "\n",
    "#1. Define input layer\n",
    "layer = \"line\"\n",
    "print(selected_features(layer))\n",
    "row_list = selected_features(layer)\n"
   ]
  },
  {
   "cell_type": "code",
   "execution_count": 72,
   "metadata": {},
   "outputs": [
    {
     "name": "stdout",
     "output_type": "stream",
     "text": [
      "﻿\n",
      "OBJECTID = 1 Or OBJECTID = 2 Or OBJECTID = 3\n"
     ]
    }
   ],
   "source": [
    "#generate a query from the selected features\n",
    "\n",
    "queryString = ''\n",
    "x = 0\n",
    "for i in row_list:\n",
    "    queryString += \"OBJECTID = \" + i\n",
    "    x = x + 1\n",
    "    try:\n",
    "        if (row_list[x]):\n",
    "            queryString += \" Or \"\n",
    "    except IndexError:\n",
    "        print(\"\")\n",
    "\n",
    "print(queryString)"
   ]
  },
  {
   "cell_type": "code",
   "execution_count": 73,
   "metadata": {
    "collapsed": true
   },
   "outputs": [
    {
     "data": {
      "text/html": [
       "<div class='gpresult'><h2>Messages</h2><div id='messages'>Start Time: Sunday, October 13, 2024 12:58:46 AM<br>Succeeded at Sunday, October 13, 2024 12:58:46 AM (Elapsed Time: 0.52 seconds)<br></div><div id = 'default' /></div></div>"
      ],
      "text/plain": [
       "<Result 'E:\\\\Projects\\\\viewshed.gdb\\\\line_Select'>"
      ]
     },
     "execution_count": 73,
     "metadata": {},
     "output_type": "execute_result"
    }
   ],
   "source": [
    "outFeature = r\"E:\\Projects\\viewshed.gdb\\line_Select\"\n",
    "\n",
    "arcpy.analysis.Select(\n",
    "    in_features= layer,\n",
    "    out_feature_class= outFeature,\n",
    "    where_clause= queryString\n",
    ")"
   ]
  },
  {
   "cell_type": "code",
   "execution_count": 74,
   "metadata": {
    "collapsed": true
   },
   "outputs": [
    {
     "data": {
      "text/html": [
       "<div class='gpresult'><h2>Messages</h2><div id='messages'>Start Time: Sunday, October 13, 2024 12:58:49 AM<br>Succeeded at Sunday, October 13, 2024 12:58:52 AM (Elapsed Time: 2.98 seconds)<br></div><div id = 'default' /></div></div>"
      ],
      "text/plain": [
       "<Result 'E:\\\\Projects\\\\viewshed.gdb\\\\GeneratePoints'>"
      ]
     },
     "execution_count": 74,
     "metadata": {},
     "output_type": "execute_result"
    }
   ],
   "source": [
    "\n",
    "#parameters to modify:\n",
    "lineInput = \"line_Select\"\n",
    "pointOutput = r\"E:\\Projects\\viewshed.gdb\\GeneratePoints\"\n",
    "pointSpacing = 50\n",
    "pointInput = \"GeneratePoints\"\n",
    "rasterInput = \"FL_GulfCoast_T_ProjectRaster\"\n",
    "observerElevation = \"6 Meters\"\n",
    "viewDistance = \"1 Miles\"\n",
    "outRaster = r\"E:\\Projects\\viewshed.gdb\\Viewshed_FL_G3\"\n",
    "\n",
    "# generate points along line\n",
    "arcpy.management.GeneratePointsAlongLines(\n",
    "    Input_Features= lineInput,\n",
    "    Output_Feature_Class= pointOutput,\n",
    "    Point_Placement=\"PERCENTAGE\",\n",
    "    Distance=None,\n",
    "    Percentage=pointSpacing,\n",
    "    Include_End_Points=\"NO_END_POINTS\",\n",
    "    Add_Chainage_Fields=\"NO_CHAINAGE\"\n",
    ")"
   ]
  },
  {
   "cell_type": "code",
   "execution_count": 75,
   "metadata": {},
   "outputs": [],
   "source": [
    "#geodesic viewshed\n",
    "with arcpy.EnvManager(outputCoordinateSystem='PROJCS[\"NAD_1983_UTM_Zone_16N\",GEOGCS[\"GCS_North_American_1983\",DATUM[\"D_North_American_1983\",SPHEROID[\"GRS_1980\",6378137.0,298.257222101]],PRIMEM[\"Greenwich\",0.0],UNIT[\"Degree\",0.0174532925199433]],PROJECTION[\"Transverse_Mercator\"],PARAMETER[\"False_Easting\",500000.0],PARAMETER[\"False_Northing\",0.0],PARAMETER[\"Central_Meridian\",-87.0],PARAMETER[\"Scale_Factor\",0.9996],PARAMETER[\"Latitude_Of_Origin\",0.0],UNIT[\"Meter\",1.0]],VERTCS[\"NAD_1983\",DATUM[\"D_North_American_1983\",SPHEROID[\"GRS_1980\",6378137.0,298.257222101]],PARAMETER[\"Vertical_Shift\",0.0],PARAMETER[\"Direction\",1.0],UNIT[\"Meter\",1.0]]', parallelProcessingFactor=\"100%\", scratchWorkspace=r\"E:\\Projects\\viewshed.gdb\"):\n",
    "    out_raster = arcpy.sa.Viewshed2(\n",
    "        in_raster=rasterInput,\n",
    "        in_observer_features=pointInput,\n",
    "        out_agl_raster=None,\n",
    "        analysis_type=\"FREQUENCY\",\n",
    "        vertical_error=\"0 Meters\",\n",
    "        out_observer_region_relationship_table=None,\n",
    "        refractivity_coefficient=0.13,\n",
    "        surface_offset=\"0 Meters\",\n",
    "        observer_elevation=None,\n",
    "        observer_offset=observerElevation,\n",
    "        inner_radius=None,\n",
    "        inner_radius_is_3d=\"GROUND\",\n",
    "        outer_radius=viewDistance,\n",
    "        outer_radius_is_3d=\"GROUND\",\n",
    "        horizontal_start_angle=0,\n",
    "        horizontal_end_angle=360,\n",
    "        vertical_upper_angle=180,\n",
    "        vertical_lower_angle=-180,\n",
    "        analysis_method=\"ALL_SIGHTLINES\",\n",
    "        analysis_target_device=\"CPU_ONLY\"\n",
    "    )\n",
    "    out_raster.save(outRaster)"
   ]
  },
  {
   "cell_type": "code",
   "execution_count": null,
   "metadata": {},
   "outputs": [],
   "source": []
  }
 ],
 "metadata": {
  "kernelspec": {
   "display_name": "ArcGISPro",
   "language": "Python",
   "name": "python3"
  },
  "language_info": {
   "file_extension": ".py",
   "name": "python",
   "version": "3"
  }
 },
 "nbformat": 4,
 "nbformat_minor": 2
}
