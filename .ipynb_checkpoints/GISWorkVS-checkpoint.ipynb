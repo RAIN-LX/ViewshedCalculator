{
 "cells": [
  {
   "cell_type": "code",
   "execution_count": 11,
   "metadata": {},
   "outputs": [
    {
     "name": "stdout",
     "output_type": "stream",
     "text": [
      "(3, ['4', '8', '11'])\n"
     ]
    }
   ],
   "source": [
    "def selected_features(layer):\n",
    "    # Check if there is a selection\n",
    "    if arcpy.Describe(layer).FIDSet:\n",
    "        # Count the selected features\n",
    "        result = arcpy.GetCount_management(layer)   \n",
    "        count = int(result.getOutput(0))\n",
    "        fids = arcpy.Describe(layer).FIDSet.split('; ')\n",
    "    else:\n",
    "        # No selection, return 0\n",
    "        count = 0\n",
    "    return count, fids\n",
    "\n",
    "# Usage\n",
    "\n",
    "#1. Define input layer\n",
    "layer = \"majrds_jul24\"\n",
    "print(selected_features(layer))\n",
    "\n"
   ]
  },
  {
   "cell_type": "code",
   "execution_count": 7,
   "metadata": {},
   "outputs": [
    {
     "data": {
      "text/plain": [
       "['0']"
      ]
     },
     "execution_count": 7,
     "metadata": {},
     "output_type": "execute_result"
    }
   ],
   "source": [
    "arcpy.Describe(\"majrds_jul24\").FIDSet.split('; ')"
   ]
  },
  {
   "cell_type": "code",
   "execution_count": 8,
   "metadata": {},
   "outputs": [
    {
     "data": {
      "text/plain": [
       "1"
      ]
     },
     "execution_count": 8,
     "metadata": {},
     "output_type": "execute_result"
    }
   ],
   "source": [
    "row_count = int(arcpy.GetCount_management(\"majrds_jul24\").getOutput(0))\n",
    "row_count"
   ]
  }
 ],
 "metadata": {
  "kernelspec": {
   "display_name": "ArcGISPro",
   "language": "Python",
   "name": "python3"
  },
  "language_info": {
   "file_extension": ".py",
   "name": "python",
   "version": "3"
  }
 },
 "nbformat": 4,
 "nbformat_minor": 2
}
