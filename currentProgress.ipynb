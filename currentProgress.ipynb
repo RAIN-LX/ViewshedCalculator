{
 "cells": [
  {
   "cell_type": "code",
   "execution_count": 7,
   "metadata": {},
   "outputs": [],
   "source": [
    "# https://pro.arcgis.com/en/pro-app/latest/arcpy/get-started/writing-geometries.htm\n",
    "# https://pro.arcgis.com/en/pro-app/latest/tool-reference/data-management/get-raster-properties.htm\n",
    "# https://gis.stackexchange.com/questions/180757/creating-polygon-feature-class-from-x-y-coordinates-using-arcpy\n",
    "from arcpy.sa import *\n",
    "arcpy.env.overwriteOutput = True\n",
    "\n",
    "# Read input raster\n",
    "raster = \"121.img\"\n",
    "\n",
    "# Get raster extent\n",
    "myRaster = Raster(raster)   # need to read raster as Raster object\n",
    "myExtent = myRaster.extent\n",
    "\n",
    "# Store extent coordinates \n",
    "xmax = myExtent.XMax\n",
    "xmin = myExtent.XMin\n",
    "ymax = myExtent.YMax\n",
    "ymin = myExtent.YMin\n",
    "\n",
    "# Store extent values as list of coordinates \n",
    "coordinates = [(xmin, ymin),\n",
    "               (xmin, ymax),\n",
    "               (xmax, ymax),\n",
    "               (xmax, ymin)]\n",
    "\n",
    "# Get coordinate system\n",
    "sr = arcpy.Describe(raster).spatialReference\n",
    "\n",
    "# Create a feature class with a spatial reference of GCS WGS 1984\n",
    "result = arcpy.management.CreateFeatureclass(\n",
    "    arcpy.env.scratchGDB, \n",
    "    \"rasterExtent\", \n",
    "    \"POLYGON\", \n",
    "    spatial_reference=sr\n",
    ")\n",
    "\n",
    "\n",
    "# Create feature class\n",
    "outPolyExtent= result[0]\n",
    "\n",
    "# Use Insert cursor to add new geometry to feature class Write feature to new feature class\n",
    "with arcpy.da.InsertCursor(outPolyExtent, ['SHAPE@']) as cursor:\n",
    "    cursor.insertRow([coordinates])"
   ]
  },
  {
   "cell_type": "code",
   "execution_count": 1,
   "metadata": {},
   "outputs": [
    {
     "data": {
      "text/html": [
       "<div class='gpresult'><h2>Messages</h2><div id='messages' data-messages='[\"Start Time: Thursday, October 24, 2024 10:12:28 AM\",\"Succeeded at Thursday, October 24, 2024 10:12:42 AM (Elapsed Time: 14.07 seconds)\"]' data-show='true'><div id = 'default' /></div></div>"
      ],
      "text/plain": [
       "<Result 'G:\\\\My Drive\\\\Projects\\\\FlSeaGrantHurricaneViewsheds\\\\Data\\\\HurricaneIvan\\\\viewshed.gdb\\\\ObserverPoints'>"
      ]
     },
     "execution_count": 1,
     "metadata": {},
     "output_type": "execute_result"
    }
   ],
   "source": [
    "#parameters to modify:\n",
    "# lineInput = \"line_Select\" jdm: I believe this can just be the selected line\n",
    "# in our case the CCCL line. Although if we have an area with multiple lines we can modify \n",
    "# script do the detect selection fucntionality\n",
    "lineInput = \"CCCLClipProj\"\n",
    "pointOutput = r\"G:\\My Drive\\Projects\\FlSeaGrantHurricaneViewsheds\\Data\\HurricaneIvan\\viewshed.gdb\\ObserverPoints\"\n",
    "pointSpacing = 10\n",
    "pointInput = \"GeneratePoints\"\n",
    "rasterInput =  \"121.img\"\n",
    "observerElevation = \"6 Meters\"\n",
    "viewDistance = \"1 Miles\"\n",
    "outRaster = r\"G:\\My Drive\\Projects\\FlSeaGrantHurricaneViewsheds\\Data\\HurricaneIvan\\viewshed.gdb\\Viewshed_121\" #FL_G3??\n",
    "\n",
    "# Generate points along line, \n",
    "# Only the part of the viewshed line to that is accounted for w/in the extent of the input raster\n",
    "# https://pro.arcgis.com/en/pro-app/latest/tool-reference/data-management/generate-points-along-lines.htm\n",
    "arcpy.management.GeneratePointsAlongLines(\n",
    "    Input_Features= lineInput,\n",
    "    Output_Feature_Class= pointOutput,\n",
    "    Point_Placement=\"PERCENTAGE\",\n",
    "    Percentage=pointSpacing,\n",
    "    Include_End_Points=\"NO_END_POINTS\",\n",
    "    Add_Chainage_Fields=\"NO_CHAINAGE\"\n",
    ")"
   ]
  },
  {
   "cell_type": "code",
   "execution_count": 75,
   "metadata": {},
   "outputs": [],
   "source": [
    "#geodesic viewshed\n",
    "with arcpy.EnvManager(outputCoordinateSystem='PROJCS[\"NAD_1983_UTM_Zone_16N\",GEOGCS[\"GCS_North_American_1983\",DATUM[\"D_North_American_1983\",SPHEROID[\"GRS_1980\",6378137.0,298.257222101]],PRIMEM[\"Greenwich\",0.0],UNIT[\"Degree\",0.0174532925199433]],PROJECTION[\"Transverse_Mercator\"],PARAMETER[\"False_Easting\",500000.0],PARAMETER[\"False_Northing\",0.0],PARAMETER[\"Central_Meridian\",-87.0],PARAMETER[\"Scale_Factor\",0.9996],PARAMETER[\"Latitude_Of_Origin\",0.0],UNIT[\"Meter\",1.0]],VERTCS[\"NAD_1983\",DATUM[\"D_North_American_1983\",SPHEROID[\"GRS_1980\",6378137.0,298.257222101]],PARAMETER[\"Vertical_Shift\",0.0],PARAMETER[\"Direction\",1.0],UNIT[\"Meter\",1.0]]', parallelProcessingFactor=\"100%\", scratchWorkspace=r\"E:\\Projects\\viewshed.gdb\"):\n",
    "    out_raster = arcpy.sa.Viewshed2(\n",
    "        in_raster=rasterInput,\n",
    "        in_observer_features=pointInput,\n",
    "        out_agl_raster=None,\n",
    "        analysis_type=\"FREQUENCY\",\n",
    "        vertical_error=\"0 Meters\",\n",
    "        out_observer_region_relationship_table=None,\n",
    "        refractivity_coefficient=0.13,\n",
    "        surface_offset=\"0 Meters\",\n",
    "        observer_elevation=None,\n",
    "        observer_offset=observerElevation,\n",
    "        inner_radius=None,\n",
    "        inner_radius_is_3d=\"GROUND\",\n",
    "        outer_radius=viewDistance,\n",
    "        outer_radius_is_3d=\"GROUND\",\n",
    "        horizontal_start_angle=0,\n",
    "        horizontal_end_angle=360,\n",
    "        vertical_upper_angle=180,\n",
    "        vertical_lower_angle=-180,\n",
    "        analysis_method=\"ALL_SIGHTLINES\",\n",
    "        analysis_target_device=\"CPU_ONLY\"\n",
    "    )\n",
    "    out_raster.save(outRaster)"
   ]
  },
  {
   "cell_type": "code",
   "execution_count": null,
   "metadata": {},
   "outputs": [],
   "source": []
  }
 ],
 "metadata": {
  "kernelspec": {
   "display_name": "ArcGISPro",
   "language": "Python",
   "name": "python3"
  },
  "language_info": {
   "file_extension": ".py",
   "name": "python",
   "version": "3"
  }
 },
 "nbformat": 4,
 "nbformat_minor": 2
}
