{
 "cells": [
  {
   "cell_type": "code",
   "execution_count": 20,
   "metadata": {},
   "outputs": [],
   "source": [
    "# https://pro.arcgis.com/en/pro-app/latest/arcpy/get-started/writing-geometries.htm\n",
    "# https://pro.arcgis.com/en/pro-app/latest/tool-reference/data-management/get-raster-properties.htm\n",
    "# https://gis.stackexchange.com/questions/180757/creating-polygon-feature-class-from-x-y-coordinates-using-arcpy\n",
    "from arcpy.sa import *\n",
    "arcpy.env.overwriteOutput = True\n",
    "\n",
    "# Read input raster\n",
    "raster = \"pensacola_after_dem.tif\"\n",
    "\n",
    "# Get raster extent\n",
    "myRaster = Raster(raster)   # need to read raster as Raster object\n",
    "myExtent = myRaster.extent\n",
    "\n",
    "# Store extent coordinates \n",
    "xmax = myExtent.XMax\n",
    "xmin = myExtent.XMin\n",
    "ymax = myExtent.YMax\n",
    "ymin = myExtent.YMin\n",
    "\n",
    "# Store extent values as list of coordinates \n",
    "coordinates = [(xmin, ymin),\n",
    "               (xmin, ymax),\n",
    "               (xmax, ymax),\n",
    "               (xmax, ymin)]\n",
    "\n",
    "# Get coordinate system\n",
    "sr = arcpy.Describe(raster).spatialReference\n",
    "\n",
    "# Create a feature class with a spatial reference of GCS WGS 1984\n",
    "result = arcpy.management.CreateFeatureclass(\n",
    "    arcpy.env.scratchGDB, \n",
    "    \"rasterExtent\", \n",
    "    \"POLYGON\", \n",
    "    spatial_reference=sr\n",
    ")\n",
    "\n",
    "\n",
    "# Create feature class\n",
    "outPolyExtent= result[0]\n",
    "\n",
    "# Use Insert cursor to add new geometry to feature class Write feature to new feature class\n",
    "with arcpy.da.InsertCursor(outPolyExtent, ['SHAPE@']) as cursor:\n",
    "    cursor.insertRow([coordinates])"
   ]
  },
  {
   "cell_type": "code",
   "execution_count": 7,
   "metadata": {},
   "outputs": [
    {
     "name": "stdout",
     "output_type": "stream",
     "text": [
      "0\n"
     ]
    },
    {
     "data": {
      "text/plain": [
       "'(0)'"
      ]
     },
     "execution_count": 7,
     "metadata": {},
     "output_type": "execute_result"
    }
   ],
   "source": [
    "selected_features = arcpy.Describe(\"MHWLTransects\").FIDSet\n",
    "print(selected_features)\n",
    "query_list = f\"({','.join([val for val in selected_features.split(';')])})\"\n",
    "query_list"
   ]
  },
  {
   "cell_type": "code",
   "execution_count": 20,
   "metadata": {},
   "outputs": [
    {
     "name": "stdout",
     "output_type": "stream",
     "text": [
      "Map\n",
      "PensacolaBeach\n",
      "VillanoBeach\n"
     ]
    }
   ],
   "source": [
    "aprx = arcpy.mp.ArcGISProject(\"CURRENT\")\n",
    "m = aprx.listMaps()\n",
    "for i in m:\n",
    "    print(i.name)\n",
    "    if i.name==\"PensacolaBeach\":\n",
    "        i.addDataFromPath(r\"G:\\My Drive\\Projects\\FlSeaGrantHurricaneViewsheds\\Data\\PensacolaBeach\\ObserverPoints.shp\")"
   ]
  },
  {
   "cell_type": "code",
   "execution_count": 17,
   "metadata": {},
   "outputs": [
    {
     "data": {
      "text/html": [
       "<div class='gpresult'><h2>Messages</h2><div id='messages' data-messages='[\"Start Time: Saturday, November 9, 2024 8:59:47 PM\",\"Succeeded at Saturday, November 9, 2024 8:59:53 PM (Elapsed Time: 5.86 seconds)\"]' data-show='true'><div id = 'default' /></div></div>"
      ],
      "text/plain": [
       "<Result 'G:\\\\My Drive\\\\Projects\\\\FlSeaGrantHurricaneViewsheds\\\\Data\\\\PensacolaBeach\\\\ObserverPoints.shp'>"
      ]
     },
     "execution_count": 17,
     "metadata": {},
     "output_type": "execute_result"
    }
   ],
   "source": [
    "# https://pro.arcgis.com/en/pro-app/latest/tool-reference/data-management/generate-points-along-lines.htm\n",
    "arcpy.management.GeneratePointsAlongLines(\n",
    "    Input_Features= lineInput,\n",
    "    Output_Feature_Class= pointOutput,\n",
    "    Point_Placement=\"PERCENTAGE\",\n",
    "    Percentage=pointSpacing,\n",
    "    Include_End_Points=\"NO_END_POINTS\",\n",
    ")"
   ]
  },
  {
   "cell_type": "code",
   "execution_count": 1,
   "metadata": {},
   "outputs": [],
   "source": [
    "#parameters to modify:\n",
    "# lineInput = \"line_Select\" jdm: I believe this can just be the selected line\n",
    "# in our case the CCCL or MHWL line. Although if we have an area with multiple lines we can modify \n",
    "# script do the detect selection fucntionality\n",
    "workspace = r\"G:\\My Drive\\Projects\\FlSeaGrantHurricaneViewsheds\\Data\\MexicoBeach\"\n",
    "lineInput =  \"MB_MHWL\"\n",
    "# pointOutput = workspace + \"\\ObserverPoints\"\n",
    "# pointSpacing = 10\n",
    "pointInput = \"MB_Transect0\"\n",
    "rasterInput = \"MexicoCity_after_dem.tif\"\n",
    "observerElevation = \"6\"\n",
    "viewDistance = \"2 Miles\"\n",
    "outRaster = workspace + \"\\Viewsheds\\Viewshed_MB0\" #FL_G3??\n",
    "\n",
    "# Generate points along line, \n",
    "# Only the part of the viewshed line to that is accounted for w/in the extent of the input raster\n",
    "# arcpy.env.workspace = arcpy.env.scratchGDB\n",
    "# clip_line = arcpy.analysis.Clip( \"MHWL\",\n",
    "#                                 \"rasterExtent\",\n",
    "#                                \"clip_line\")"
   ]
  },
  {
   "cell_type": "code",
   "execution_count": 3,
   "metadata": {
    "scrolled": true
   },
   "outputs": [
    {
     "name": "stdout",
     "output_type": "stream",
     "text": [
      "NAD_1983_StatePlane_Florida_North_FIPS_0903_Feet\n",
      "2238\n",
      "Running viewshed number 0\n",
      "Running viewshed number 1\n",
      "Running viewshed number 2\n",
      "Running viewshed number 3\n",
      "Running viewshed number 4\n"
     ]
    }
   ],
   "source": [
    "#geodesic viewshed\n",
    "#Get projection from MHWL data and put in variable e.g. outCoordSys\n",
    "\n",
    "#NAD903 = 'PROJCS[\"NAD_1983_2011_StatePlane_Florida_North_FIPS_0903_Ft_US\",GEOGCS[\"GCS_NAD_1983_2011\",DATUM[\"D_NAD_1983_2011\",SPHEROID[\"GRS_1980\",6378137.0,298.257222101]],PRIMEM[\"Greenwich\",0.0],UNIT[\"Degree\",0.0174532925199433]],PROJECTION[\"Lambert_Conformal_Conic\"],PARAMETER[\"False_Easting\",1968500.0],PARAMETER[\"False_Northing\",0.0],PARAMETER[\"Central_Meridian\",-84.5],PARAMETER[\"Standard_Parallel_1\",29.58333333333333],PARAMETER[\"Standard_Parallel_2\",30.75],PARAMETER[\"Latitude_Of_Origin\",29.0],UNIT[\"Foot_US\",0.3048006096012192]],VERTCS[\"NAD_1983_2011\",DATUM[\"D_NAD_1983_2011\",SPHEROID[\"GRS_1980\",6378137.0,298.257222101]],PARAMETER[\"Vertical_Shift\",0.0],PARAMETER[\"Direction\",1.0],UNIT[\"Meter\",1.0]]'\n",
    "# We can also just get the projection from one of our input files that we are already sure is in the right projection\n",
    "feature_class = \"MB_MHWL\"\n",
    "desc = arcpy.Describe(feature_class)\n",
    "sr = desc.spatialReference\n",
    "print(sr.name)  # Prints the name of the projection\n",
    "print(sr.factoryCode)  # Prints the factory code of the projection\n",
    "\n",
    "# Since the project is in feet let's keep the parameters in feet as well e.g. 6 feet on observer elevation\n",
    "with arcpy.da.SearchCursor(pointInput,['SHAPE@','FID']) as cursor:\n",
    "    for row in cursor:\n",
    "        print(\"Running viewshed number {}\".format(row[1]))\n",
    "        with arcpy.EnvManager(outputCoordinateSystem=sr, parallelProcessingFactor=\"100%\", scratchWorkspace=workspace):\n",
    "            out_raster = arcpy.sa.Viewshed2(\n",
    "                in_raster=rasterInput,\n",
    "                in_observer_features=row[0],\n",
    "                out_agl_raster=None,\n",
    "                analysis_type=\"FREQUENCY\",\n",
    "                vertical_error=\"0 Meters\",\n",
    "                out_observer_region_relationship_table=None,\n",
    "                refractivity_coefficient=0.13,\n",
    "                surface_offset=\"0 Meters\",\n",
    "                observer_elevation=observerElevation,\n",
    "                observer_offset=\"1 Meters\",\n",
    "                inner_radius=None,\n",
    "                inner_radius_is_3d=\"GROUND\",\n",
    "                outer_radius=\"1 Miles\",\n",
    "                outer_radius_is_3d=\"GROUND\",\n",
    "                horizontal_start_angle=0,\n",
    "                horizontal_end_angle=360,\n",
    "                vertical_upper_angle=90,\n",
    "                vertical_lower_angle=-90,\n",
    "                analysis_method=\"ALL_SIGHTLINES\",\n",
    "                analysis_target_device=\"CPU_ONLY\"\n",
    "            )\n",
    "            out_raster.save(outRaster + str(row[1]) +\".tif\")"
   ]
  }
 ],
 "metadata": {
  "kernelspec": {
   "display_name": "ArcGISPro",
   "language": "Python",
   "name": "python3"
  },
  "language_info": {
   "file_extension": ".py",
   "name": "python",
   "version": "3"
  }
 },
 "nbformat": 4,
 "nbformat_minor": 2
}
