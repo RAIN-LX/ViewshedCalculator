In [1]
#currently, this is missing feature selection and relies on manually copying features to a new layer to use as lineInput
#I haven't managed to get SearchCursor functioning, but it seems like what we need to connect everything.

#parameters to modify:
lineInput = "line selection"
pointOutput = r"E:\Projects\viewshed.gdb\GeneratePoints"
  
  #spacing as a percentage per line
pointSpacing = 10

  #this should match the pointOutput
pointInput = "GeneratePoints"

  #DEM raster
rasterInput = "FL_GulfCoast_T_ProjectRaster"
observerElevation = "6 Meters"
viewDistance = "1 Miles"


# generate points along line
arcpy.management.GeneratePointsAlongLines(
    Input_Features= lineInput,
    Output_Feature_Class= pointOutput,
    Point_Placement="PERCENTAGE",
    Distance=None,
    Percentage=pointSpacing,
    Include_End_Points="NO_END_POINTS",
    Add_Chainage_Fields="NO_CHAINAGE"
)

#---------------------------------------------------

In [2]

#geodesic viewshed
with arcpy.EnvManager(outputCoordinateSystem='PROJCS["NAD_1983_UTM_Zone_16N",GEOGCS["GCS_North_American_1983",DATUM["D_North_American_1983",SPHEROID["GRS_1980",6378137.0,298.257222101]],PRIMEM["Greenwich",0.0],UNIT["Degree",0.0174532925199433]],PROJECTION["Transverse_Mercator"],PARAMETER["False_Easting",500000.0],PARAMETER["False_Northing",0.0],PARAMETER["Central_Meridian",-87.0],PARAMETER["Scale_Factor",0.9996],PARAMETER["Latitude_Of_Origin",0.0],UNIT["Meter",1.0]],VERTCS["NAD_1983",DATUM["D_North_American_1983",SPHEROID["GRS_1980",6378137.0,298.257222101]],PARAMETER["Vertical_Shift",0.0],PARAMETER["Direction",1.0],UNIT["Meter",1.0]]', parallelProcessingFactor="100%", scratchWorkspace=r"E:\Projects\viewshed.gdb"):
    out_raster = arcpy.sa.Viewshed2(
        in_raster=rasterInput,
        in_observer_features=pointInput,
        out_agl_raster=None,
        analysis_type="FREQUENCY",
        vertical_error="0 Meters",
        out_observer_region_relationship_table=None,
        refractivity_coefficient=0.13,
        surface_offset="0 Meters",
        observer_elevation=None,
        observer_offset=observerElevation,
        inner_radius=None,
        inner_radius_is_3d="GROUND",
        outer_radius=viewDistance,
        outer_radius_is_3d="GROUND",
        horizontal_start_angle=0,
        horizontal_end_angle=360,
        vertical_upper_angle=180,
        vertical_lower_angle=-180,
        analysis_method="ALL_SIGHTLINES",
        analysis_target_device="CPU_ONLY"
    )
    out_raster.save(r"E:\Projects\viewshed.gdb\Viewshed_FL_G3")
  
