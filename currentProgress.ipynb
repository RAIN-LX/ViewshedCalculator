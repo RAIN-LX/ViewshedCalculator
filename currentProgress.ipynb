{
 "cells": [
  {
   "cell_type": "code",
   "execution_count": 2,
   "metadata": {},
   "outputs": [],
   "source": [
    "# https://pro.arcgis.com/en/pro-app/latest/arcpy/get-started/writing-geometries.htm\n",
    "# https://pro.arcgis.com/en/pro-app/latest/tool-reference/data-management/get-raster-properties.htm\n",
    "# https://gis.stackexchange.com/questions/180757/creating-polygon-feature-class-from-x-y-coordinates-using-arcpy\n",
    "from arcpy.sa import *\n",
    "arcpy.env.overwriteOutput = True\n",
    "\n",
    "# Read input raster\n",
    "raster = \"pensacola_after_dem.tif\"\n",
    "\n",
    "# Get raster extent\n",
    "myRaster = Raster(raster)   # need to read raster as Raster object\n",
    "myExtent = myRaster.extent\n",
    "\n",
    "# Store extent coordinates \n",
    "xmax = myExtent.XMax\n",
    "xmin = myExtent.XMin\n",
    "ymax = myExtent.YMax\n",
    "ymin = myExtent.YMin\n",
    "\n",
    "# Store extent values as list of coordinates \n",
    "coordinates = [(xmin, ymin),\n",
    "               (xmin, ymax),\n",
    "               (xmax, ymax),\n",
    "               (xmax, ymin)]\n",
    "\n",
    "# Get coordinate system\n",
    "sr = arcpy.Describe(raster).spatialReference\n",
    "\n",
    "# Create a feature class with a spatial reference of GCS WGS 1984\n",
    "result = arcpy.management.CreateFeatureclass(\n",
    "    arcpy.env.scratchGDB, \n",
    "    \"rasterExtent\", \n",
    "    \"POLYGON\", \n",
    "    spatial_reference=sr\n",
    ")\n",
    "\n",
    "\n",
    "# Create feature class\n",
    "outPolyExtent= result[0]\n",
    "\n",
    "# Use Insert cursor to add new geometry to feature class Write feature to new feature class\n",
    "with arcpy.da.InsertCursor(outPolyExtent, ['SHAPE@']) as cursor:\n",
    "    cursor.insertRow([coordinates])"
   ]
  },
  {
   "cell_type": "code",
   "execution_count": 3,
   "metadata": {},
   "outputs": [
    {
     "data": {
      "text/html": [
       "<div class='gpresult'><h2>Messages</h2><div id='messages' data-messages='[\"Start Time: Sunday, November 3, 2024 7:03:06 AM\",\"Succeeded at Sunday, November 3, 2024 7:03:19 AM (Elapsed Time: 12.96 seconds)\"]' data-show='true'><div id = 'default' /></div></div>"
      ],
      "text/plain": [
       "<Result 'G:\\\\My Drive\\\\Projects\\\\FlSeaGrantHurricaneViewsheds\\\\Data\\\\PensacolaBeach\\\\viewshed.gdb\\\\ObserverPoints'>"
      ]
     },
     "execution_count": 3,
     "metadata": {},
     "output_type": "execute_result"
    }
   ],
   "source": [
    "#parameters to modify:\n",
    "# lineInput = \"line_Select\" jdm: I believe this can just be the selected line\n",
    "# in our case the CCCL or MHWL line. Although if we have an area with multiple lines we can modify \n",
    "# script do the detect selection fucntionality\n",
    "lineInput =  \"MHWL\"\n",
    "pointOutput = r\"G:\\My Drive\\Projects\\FlSeaGrantHurricaneViewsheds\\Data\\PensacolaBeach\\viewshed.gdb\\ObserverPoints\"\n",
    "pointSpacing = 10\n",
    "pointInput = \"GeneratePoints\"\n",
    "rasterInput =  \"pensacola_before_dem.tif\"\n",
    "observerElevation = \"6 Meters\"\n",
    "viewDistance = \"1 Miles\"\n",
    "outRaster = r\"G:\\My Drive\\Projects\\FlSeaGrantHurricaneViewsheds\\Data\\PensacolaBeach\\viewshed.gdb\\Viewshed\" #FL_G3??\n",
    "\n",
    "# Generate points along line, \n",
    "# Only the part of the viewshed line to that is accounted for w/in the extent of the input raster\n",
    "arcpy.env.workspace = arcpy.env.scratchGDB\n",
    "clip_line = arcpy.analysis.Clip( \"MHWL\",\n",
    "                                \"rasterExtent\",\n",
    "                               \"clip_line\")\n",
    "\n",
    "# https://pro.arcgis.com/en/pro-app/latest/tool-reference/data-management/generate-points-along-lines.htm\n",
    "arcpy.management.GeneratePointsAlongLines(\n",
    "    Input_Features= clip_line,\n",
    "    Output_Feature_Class= pointOutput,\n",
    "    Point_Placement=\"PERCENTAGE\",\n",
    "    Percentage=pointSpacing,\n",
    "    Include_End_Points=\"NO_END_POINTS\",\n",
    "    Add_Chainage_Fields=\"NO_CHAINAGE\"\n",
    ")"
   ]
  },
  {
   "cell_type": "code",
   "execution_count": null,
   "metadata": {},
   "outputs": [],
   "source": [
    "# Adding in coordinates to find points on ground\n",
    "# https://pro.arcgis.com/en/pro-app/latest/tool-reference/data-management/add-geometry-attributes.htm\n",
    "# https://pro.arcgis.com/en/pro-app/3.2/tool-reference/data-management/calculate-geometry-attributes.htm\n",
    "# https://support.esri.com/en-us/knowledge-base/how-to-calculate-the-xy-coordinates-of-point-features-i-000026530\n",
    "# Adding a text field called lat_lon and then Calc Geom with coords seems to work fine\n",
    "    \n"
   ]
  },
  {
   "cell_type": "code",
   "execution_count": 75,
   "metadata": {},
   "outputs": [],
   "source": [
    "#geodesic viewshed\n",
    "#Get projection from MHWL data and put in variable e.g. outCoordSys\n",
    "with arcpy.EnvManager(outputCoordinateSystem='PROJCS[\"NAD_1983_UTM_Zone_16N\",GEOGCS[\"GCS_North_American_1983\",DATUM[\"D_North_American_1983\",SPHEROID[\"GRS_1980\",6378137.0,298.257222101]],PRIMEM[\"Greenwich\",0.0],UNIT[\"Degree\",0.0174532925199433]],PROJECTION[\"Transverse_Mercator\"],PARAMETER[\"False_Easting\",500000.0],PARAMETER[\"False_Northing\",0.0],PARAMETER[\"Central_Meridian\",-87.0],PARAMETER[\"Scale_Factor\",0.9996],PARAMETER[\"Latitude_Of_Origin\",0.0],UNIT[\"Meter\",1.0]],VERTCS[\"NAD_1983\",DATUM[\"D_North_American_1983\",SPHEROID[\"GRS_1980\",6378137.0,298.257222101]],PARAMETER[\"Vertical_Shift\",0.0],PARAMETER[\"Direction\",1.0],UNIT[\"Meter\",1.0]]', parallelProcessingFactor=\"100%\", scratchWorkspace=r\"E:\\Projects\\viewshed.gdb\"):\n",
    "    out_raster = arcpy.sa.Viewshed2(\n",
    "        in_raster=rasterInput,\n",
    "        in_observer_features=pointInput,\n",
    "        out_agl_raster=None,\n",
    "        analysis_type=\"FREQUENCY\",\n",
    "        vertical_error=\"0 Meters\",\n",
    "        out_observer_region_relationship_table=None,\n",
    "        refractivity_coefficient=0.13,\n",
    "        surface_offset=\"0 Meters\",\n",
    "        observer_elevation=None,\n",
    "        observer_offset=observerElevation,\n",
    "        inner_radius=None,\n",
    "        inner_radius_is_3d=\"GROUND\",\n",
    "        outer_radius=viewDistance,\n",
    "        outer_radius_is_3d=\"GROUND\",\n",
    "        horizontal_start_angle=0,\n",
    "        horizontal_end_angle=360,\n",
    "        vertical_upper_angle=180,\n",
    "        vertical_lower_angle=-180,\n",
    "        analysis_method=\"ALL_SIGHTLINES\",\n",
    "        analysis_target_device=\"CPU_ONLY\"\n",
    "    )\n",
    "    out_raster.save(outRaster)"
   ]
  },
  {
   "cell_type": "code",
   "execution_count": null,
   "metadata": {},
   "outputs": [],
   "source": []
  }
 ],
 "metadata": {
  "kernelspec": {
   "display_name": "ArcGISPro",
   "language": "Python",
   "name": "python3"
  },
  "language_info": {
   "file_extension": ".py",
   "name": "python",
   "version": "3"
  }
 },
 "nbformat": 4,
 "nbformat_minor": 2
}
