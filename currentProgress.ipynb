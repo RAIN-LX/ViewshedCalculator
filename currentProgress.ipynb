{
 "cells": [
  {
   "cell_type": "code",
   "execution_count": 6,
   "metadata": {
    "scrolled": false
   },
   "outputs": [
    {
     "name": "stdout",
     "output_type": "stream",
     "text": [
      "['0']\n"
     ]
    }
   ],
   "source": [
    "# # Gets the rows of select line feature\n",
    "# def selected_features(layer):\n",
    "#     # Check if there is a selection\n",
    "#     if arcpy.Describe(layer).FIDSet:\n",
    "#         # Count the selected features\n",
    "#         result = arcpy.GetCount_management(layer)   \n",
    "#         count = int(result.getOutput(0))\n",
    "#         fids = arcpy.Describe(layer).FIDSet.split('; ')\n",
    "#     else:\n",
    "#         # No selection, return 0\n",
    "#         count = 0\n",
    "#     return fids\n",
    "\n",
    "# # Usage\n",
    "\n",
    "# #1. Define input layer\n",
    "# layer = \"CCCLClipProj\"\n",
    "# print(selected_features(layer))\n",
    "# row_list = selected_features(layer)"
   ]
  },
  {
   "cell_type": "code",
   "execution_count": 3,
   "metadata": {},
   "outputs": [
    {
     "name": "stdout",
     "output_type": "stream",
     "text": [
      "﻿\n",
      "OBJECTID = 0\n"
     ]
    }
   ],
   "source": [
    "# #generate a query from the selected features\n",
    "# queryString = ''\n",
    "# x = 0\n",
    "# for i in row_list:\n",
    "#     queryString += \"OBJECTID = \" + i\n",
    "#     x = x + 1\n",
    "#     try:\n",
    "#         if (row_list[x]):\n",
    "#             queryString += \" Or \"\n",
    "#     except IndexError:\n",
    "#         print(\"\")\n",
    "\n",
    "# print(queryString)"
   ]
  },
  {
   "cell_type": "code",
   "execution_count": 4,
   "metadata": {},
   "outputs": [
    {
     "data": {
      "text/html": [
       "<div class='gpresult'><h2>Messages</h2><div id='messages' data-messages='[\"Start Time: Wednesday, October 23, 2024 2:01:24 PM\",\"Succeeded at Wednesday, October 23, 2024 2:01:25 PM (Elapsed Time: 0.49 seconds)\"]' data-show='true'><div id = 'default' /></div></div>"
      ],
      "text/plain": [
       "<Result 'G:\\\\My Drive\\\\Projects\\\\FlSeaGrantHurricaneViewsheds\\\\Data\\\\HurricaneIvan.shp'>"
      ]
     },
     "execution_count": 4,
     "metadata": {},
     "output_type": "execute_result"
    }
   ],
   "source": [
    "# jdm: Can we clarify what this step does?\n",
    "# outFeature = r\"G:\\My Drive\\Projects\\FlSeaGrantHurricaneViewsheds\\Data\\HurricaneIvan\"\n",
    "# arcpy.analysis.Select(\n",
    "#     in_features= layer,\n",
    "#     out_feature_class= outFeature,\n",
    "#     where_clause= queryString\n",
    "# )"
   ]
  },
  {
   "cell_type": "code",
   "execution_count": 20,
   "metadata": {},
   "outputs": [
    {
     "data": {
      "text/plain": [
       "(<Result '500312.12'>, <Result '1140455.35'>, <Result '494602.12'>, <Result '1160295.35'>)"
      ]
     },
     "execution_count": 20,
     "metadata": {},
     "output_type": "execute_result"
    }
   ],
   "source": [
    "# https://pro.arcgis.com/en/pro-app/latest/tool-reference/data-management/get-raster-properties.htm\n",
    "rastTop = arcpy.GetRasterProperties_management(\"121.img\", \"TOP\")\n",
    "rastLeft = arcpy.GetRasterProperties_management(\"121.img\", \"LEFT\")\n",
    "rastBottom = arcpy.GetRasterProperties_management(\"121.img\", \"BOTTOM\")\n",
    "rastRight = arcpy.GetRasterProperties_management(\"121.img\", \"RIGHT\")\n",
    "rastTop, rastLeft, rastBottom, rastRight"
   ]
  },
  {
   "cell_type": "code",
   "execution_count": 23,
   "metadata": {},
   "outputs": [],
   "source": [
    "# https://pro.arcgis.com/en/pro-app/latest/arcpy/get-started/writing-geometries.htm\n",
    "arcpy.env.overwriteOutput = True\n",
    "coordinates = [\n",
    "    (500312.12, 1140455.35),\n",
    "    (494602.12, 1160295.35),\n",
    "]\n",
    "\n",
    "# Create a feature class with a spatial reference of GCS WGS 1984\n",
    "result = arcpy.management.CreateFeatureclass(\n",
    "    arcpy.env.scratchGDB, \"esri_poly\", \"POLYGON\", spatial_reference=6441\n",
    ")\n",
    "feature_class = result[0]\n",
    "\n",
    "# Write feature to new feature class\n",
    "with arcpy.da.InsertCursor(feature_class, [\"SHAPE@\"]) as cursor:\n",
    "    cursor.insertRow([coordinates])"
   ]
  },
  {
   "cell_type": "code",
   "execution_count": 10,
   "metadata": {},
   "outputs": [
    {
     "data": {
      "text/html": [
       "<div class='gpresult'><h2>Messages</h2><div id='messages' data-messages='[\"Start Time: Wednesday, October 23, 2024 2:19:54 PM\",\"Succeeded at Wednesday, October 23, 2024 2:20:06 PM (Elapsed Time: 12.19 seconds)\"]' data-show='true'><div id = 'default' /></div></div>"
      ],
      "text/plain": [
       "<Result 'G:\\\\My Drive\\\\Projects\\\\FlSeaGrantHurricaneViewsheds\\\\Data\\\\HurricaneIvan\\\\viewshed.gdb\\\\ObserverPoints'>"
      ]
     },
     "execution_count": 10,
     "metadata": {},
     "output_type": "execute_result"
    }
   ],
   "source": [
    "#parameters to modify:\n",
    "# lineInput = \"line_Select\" jdm: I believe this can just be the selected line\n",
    "# in our case the CCCL line. Although if we have an area with multiple lines we can modify \n",
    "# script do the detect selection fucntionality\n",
    "lineInput = \"CCCLClipProj\"\n",
    "pointOutput = r\"G:\\My Drive\\Projects\\FlSeaGrantHurricaneViewsheds\\Data\\HurricaneIvan\\viewshed.gdb\\ObserverPoints\"\n",
    "pointSpacing = 10\n",
    "pointInput = \"GeneratePoints\"\n",
    "rasterInput =  \"121.img\"\n",
    "observerElevation = \"6 Meters\"\n",
    "viewDistance = \"1 Miles\"\n",
    "outRaster = r\"G:\\My Drive\\Projects\\FlSeaGrantHurricaneViewsheds\\Data\\HurricaneIvan\\viewshed.gdb\\Viewshed_121\" #FL_G3??\n",
    "\n",
    "#Only the part of the CCCL line to that is accounted for w/in the extent of the input raster\n",
    "\n",
    "\n",
    "# generate points along line\n",
    "# https://pro.arcgis.com/en/pro-app/latest/tool-reference/data-management/generate-points-along-lines.htm\n",
    "arcpy.management.GeneratePointsAlongLines(\n",
    "    Input_Features= lineInput,\n",
    "    Output_Feature_Class= pointOutput,\n",
    "    Point_Placement=\"PERCENTAGE\",\n",
    "    Percentage=pointSpacing,\n",
    "    Include_End_Points=\"NO_END_POINTS\",\n",
    "    Add_Chainage_Fields=\"NO_CHAINAGE\"\n",
    ")"
   ]
  },
  {
   "cell_type": "code",
   "execution_count": 75,
   "metadata": {},
   "outputs": [],
   "source": [
    "#geodesic viewshed\n",
    "with arcpy.EnvManager(outputCoordinateSystem='PROJCS[\"NAD_1983_UTM_Zone_16N\",GEOGCS[\"GCS_North_American_1983\",DATUM[\"D_North_American_1983\",SPHEROID[\"GRS_1980\",6378137.0,298.257222101]],PRIMEM[\"Greenwich\",0.0],UNIT[\"Degree\",0.0174532925199433]],PROJECTION[\"Transverse_Mercator\"],PARAMETER[\"False_Easting\",500000.0],PARAMETER[\"False_Northing\",0.0],PARAMETER[\"Central_Meridian\",-87.0],PARAMETER[\"Scale_Factor\",0.9996],PARAMETER[\"Latitude_Of_Origin\",0.0],UNIT[\"Meter\",1.0]],VERTCS[\"NAD_1983\",DATUM[\"D_North_American_1983\",SPHEROID[\"GRS_1980\",6378137.0,298.257222101]],PARAMETER[\"Vertical_Shift\",0.0],PARAMETER[\"Direction\",1.0],UNIT[\"Meter\",1.0]]', parallelProcessingFactor=\"100%\", scratchWorkspace=r\"E:\\Projects\\viewshed.gdb\"):\n",
    "    out_raster = arcpy.sa.Viewshed2(\n",
    "        in_raster=rasterInput,\n",
    "        in_observer_features=pointInput,\n",
    "        out_agl_raster=None,\n",
    "        analysis_type=\"FREQUENCY\",\n",
    "        vertical_error=\"0 Meters\",\n",
    "        out_observer_region_relationship_table=None,\n",
    "        refractivity_coefficient=0.13,\n",
    "        surface_offset=\"0 Meters\",\n",
    "        observer_elevation=None,\n",
    "        observer_offset=observerElevation,\n",
    "        inner_radius=None,\n",
    "        inner_radius_is_3d=\"GROUND\",\n",
    "        outer_radius=viewDistance,\n",
    "        outer_radius_is_3d=\"GROUND\",\n",
    "        horizontal_start_angle=0,\n",
    "        horizontal_end_angle=360,\n",
    "        vertical_upper_angle=180,\n",
    "        vertical_lower_angle=-180,\n",
    "        analysis_method=\"ALL_SIGHTLINES\",\n",
    "        analysis_target_device=\"CPU_ONLY\"\n",
    "    )\n",
    "    out_raster.save(outRaster)"
   ]
  },
  {
   "cell_type": "code",
   "execution_count": null,
   "metadata": {},
   "outputs": [],
   "source": []
  }
 ],
 "metadata": {
  "kernelspec": {
   "display_name": "ArcGISPro",
   "language": "Python",
   "name": "python3"
  },
  "language_info": {
   "file_extension": ".py",
   "name": "python",
   "version": "3"
  }
 },
 "nbformat": 4,
 "nbformat_minor": 2
}
